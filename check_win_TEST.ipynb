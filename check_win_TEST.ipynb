{
 "cells": [
  {
   "cell_type": "code",
   "execution_count": 2,
   "id": "c4cd8e98-e4c9-49d7-98ce-33e8d3683673",
   "metadata": {},
   "outputs": [],
   "source": [
    "import numpy as np\n",
    "import pyglet as pg\n",
    "\n",
    "\n",
    "def main():\n",
    "    \"\"\"\n",
    "    Main method to be run when executing file.\n",
    "    board: array functioning as the game board\n",
    "    quantum_list: list of quantum stones\n",
    "    \"\"\"\n",
    "    pass\n",
    "\n",
    "\n",
    "width, height = 7, 6\n",
    "player_nr = 2\n",
    "draw_counter = 0\n",
    "board = np.zeros((height, width))\n",
    "quantum_list = []\n",
    "psi = 4                            #number of connected pieces to win\n"
   ]
  },
  {
   "cell_type": "code",
   "execution_count": 62,
   "id": "d885600a-6b41-4ef0-ac58-b95e22bc12cb",
   "metadata": {},
   "outputs": [],
   "source": [
    "def check_win() -> int:\n",
    "    winner = -2\n",
    "    winturn = 2 * width * height  # a number sufficiently big, that the real winturn is smaller for sure\n",
    "    tempwinturn = -1\n",
    "    player = -1\n",
    "    counter = 0\n",
    "\n",
    "    # check rows\n",
    "    for row in range(height):\n",
    "        for column in range(width):\n",
    "            field = board[row][column]\n",
    "\n",
    "            winner, winturn, tempwinturn, player, counter = check_field(winner, winturn, tempwinturn, player, counter, field)\n",
    "        counter = 0\n",
    "        tempwinturn = -1\n",
    "\n",
    "    # check columns\n",
    "    for column in range(width):\n",
    "        for row in range(height):\n",
    "            field = board[row][column]\n",
    "\n",
    "            winner, winturn, tempwinturn, player, counter = check_field(winner, winturn, tempwinturn, player, counter, field)\n",
    "        counter = 0\n",
    "        tempwinturn = -1\n",
    "\n",
    "    # check diagonals top to bottom\n",
    "    for column in range(0,width-psi):\n",
    "        x = 0\n",
    "        while ((column + x) < width and x < height):\n",
    "            field = board[x][column +x]\n",
    "            winner, winturn, tempwinturn, player, counter = check_field(winner, winturn, tempwinturn, player, counter, field)\n",
    "            x+=1\n",
    "\n",
    "        counter = 0\n",
    "        tempwinturn = -1\n",
    "\n",
    "    for row in range(1, height-psi):\n",
    "        x = 0\n",
    "        while((row + x) < height and x < width):\n",
    "            field = board[row + x][x]\n",
    "            winner, winturn, tempwinturn, player, counter = check_field(winner, winturn, tempwinturn, player, counter, field)\n",
    "            x += 1\n",
    "\n",
    "        counter = 0\n",
    "        tempwinturn = -1\n",
    "\n",
    "    # check diagonals bottom to top\n",
    "    for column in range(0, width-psi):\n",
    "        x = 0\n",
    "        while ((column + x) < width and x < height):\n",
    "            field = board[height - 1 - x][column + x]\n",
    "            winner, winturn, tempwinturn, player, counter = check_field(winner, winturn, tempwinturn, player, counter,\n",
    "                                                                        field)\n",
    "            x += 1\n",
    "\n",
    "        counter = 0\n",
    "        tempwinturn = -1\n",
    "\n",
    "    for row in range(1, height - psi):\n",
    "        x = 0\n",
    "        while ((row + x) < height and x < width):\n",
    "            field = board[height - 1 - x - row][x]\n",
    "            winner, winturn, tempwinturn, player, counter = check_field(winner, winturn, tempwinturn, player, counter,\n",
    "                                                                        field)\n",
    "            x += 1\n",
    "\n",
    "        counter = 0\n",
    "        tempwinturn = -1\n",
    "\n",
    "    \n",
    "    if (not 0 in board and winner == -2):\n",
    "        return -2\n",
    "\n",
    "    return winner +1\n",
    "\n",
    "def check_field(winner: int, winturn:int, tempwinturn:int, player:int, counter:int, field:int)->(int, int, int, int, int):\n",
    "    if (field != 0 and field not in quantum_list):  # If  a classical piece lies there\n",
    "        new_player = field % player_nr\n",
    "        if (player == new_player):\n",
    "            counter += 1\n",
    "            if (field > tempwinturn):\n",
    "                tempwinturn = field\n",
    "\n",
    "            if (counter == psi and tempwinturn < winturn):  # If we have a new winner\n",
    "                winturn = tempwinturn\n",
    "                winner = player\n",
    "\n",
    "        else:\n",
    "            player = new_player\n",
    "            counter = 1\n",
    "            tempwinturn = field\n",
    "    else:\n",
    "        counter = 0\n",
    "        player = -1\n",
    "        tempwinturn = -1\n",
    "\n",
    "    return winner, winturn, tempwinturn, player, counter"
   ]
  },
  {
   "cell_type": "code",
   "execution_count": 63,
   "id": "a948e000-a246-4a32-96d0-915ee9ad27e4",
   "metadata": {},
   "outputs": [
    {
     "name": "stdout",
     "output_type": "stream",
     "text": [
      "[[0 0 0 0 0 0 0]\n",
      " [0 0 0 0 0 0 0]\n",
      " [0 0 0 0 0 0 0]\n",
      " [0 0 0 0 0 0 0]\n",
      " [0 0 0 0 0 0 0]\n",
      " [0 0 0 0 0 0 0]]\n"
     ]
    },
    {
     "data": {
      "text/plain": [
       "-1"
      ]
     },
     "execution_count": 63,
     "metadata": {},
     "output_type": "execute_result"
    }
   ],
   "source": [
    "board = np.array([[0,0,0,0,0,0,0],\n",
    "                 [0,0,0,0,0,0,0],\n",
    "                 [0,0,0,0,0,0,0],\n",
    "                 [0,0,0,0,0,0,0],\n",
    "                 [0,0,0,0,0,0,0],\n",
    "                 [0,0,0,0,0,0,0]])\n",
    "print(board)\n",
    "check_win()"
   ]
  },
  {
   "cell_type": "code",
   "execution_count": 64,
   "id": "2635dffd-42cd-468b-bf26-d3d6447c2480",
   "metadata": {},
   "outputs": [
    {
     "name": "stdout",
     "output_type": "stream",
     "text": [
      "[[0 0 0 0 0 0 0]\n",
      " [0 0 0 0 0 0 0]\n",
      " [0 0 0 0 0 0 0]\n",
      " [0 0 0 0 0 0 0]\n",
      " [0 0 0 0 0 0 0]\n",
      " [1 3 5 7 0 0 0]]\n"
     ]
    },
    {
     "data": {
      "text/plain": [
       "2"
      ]
     },
     "execution_count": 64,
     "metadata": {},
     "output_type": "execute_result"
    }
   ],
   "source": [
    "board = np.array([[0,0,0,0,0,0,0],\n",
    "                 [0,0,0,0,0,0,0],\n",
    "                 [0,0,0,0,0,0,0],\n",
    "                 [0,0,0,0,0,0,0],\n",
    "                 [0,0,0,0,0,0,0],\n",
    "                 [1,3,5,7,0,0,0]])\n",
    "print(board)\n",
    "check_win()"
   ]
  },
  {
   "cell_type": "code",
   "execution_count": 65,
   "id": "2a736c6c-346f-41af-9716-8158d19d3c4a",
   "metadata": {},
   "outputs": [
    {
     "name": "stdout",
     "output_type": "stream",
     "text": [
      "[[0 0 0 0 0 0 0]\n",
      " [0 0 0 0 0 0 0]\n",
      " [0 0 0 0 0 0 0]\n",
      " [0 0 0 0 0 0 0]\n",
      " [0 0 0 0 0 0 0]\n",
      " [2 4 6 8 0 0 0]]\n"
     ]
    },
    {
     "data": {
      "text/plain": [
       "1"
      ]
     },
     "execution_count": 65,
     "metadata": {},
     "output_type": "execute_result"
    }
   ],
   "source": [
    "board = np.array([[0,0,0,0,0,0,0],\n",
    "                 [0,0,0,0,0,0,0],\n",
    "                 [0,0,0,0,0,0,0],\n",
    "                 [0,0,0,0,0,0,0],\n",
    "                 [0,0,0,0,0,0,0],\n",
    "                 [2,4,6,8,0,0,0]])\n",
    "print(board)\n",
    "check_win()"
   ]
  },
  {
   "cell_type": "code",
   "execution_count": 66,
   "id": "75821723-25a5-48f9-bd70-977101f59ef3",
   "metadata": {},
   "outputs": [
    {
     "name": "stdout",
     "output_type": "stream",
     "text": [
      "[[0 0 0 0 0 0 0]\n",
      " [0 0 0 0 0 0 0]\n",
      " [0 0 0 0 0 0 0]\n",
      " [0 0 0 0 0 0 0]\n",
      " [0 0 0 0 0 0 0]\n",
      " [0 2 4 6 0 0 0]]\n"
     ]
    },
    {
     "data": {
      "text/plain": [
       "-1"
      ]
     },
     "execution_count": 66,
     "metadata": {},
     "output_type": "execute_result"
    }
   ],
   "source": [
    "board = np.array([[0,0,0,0,0,0,0],\n",
    "                 [0,0,0,0,0,0,0],\n",
    "                 [0,0,0,0,0,0,0],\n",
    "                 [0,0,0,0,0,0,0],\n",
    "                 [0,0,0,0,0,0,0],\n",
    "                 [0,2,4,6,0,0,0]])\n",
    "print(board)\n",
    "check_win()"
   ]
  },
  {
   "cell_type": "code",
   "execution_count": 67,
   "id": "c28f167e-220d-442a-9d70-ce13593f7437",
   "metadata": {},
   "outputs": [
    {
     "name": "stdout",
     "output_type": "stream",
     "text": [
      "[[0 0 0 0 0 0 0]\n",
      " [0 0 0 0 0 0 0]\n",
      " [0 0 0 7 0 0 0]\n",
      " [0 0 5 0 0 0 0]\n",
      " [0 3 0 0 0 0 0]\n",
      " [1 0 0 0 0 0 0]]\n"
     ]
    },
    {
     "data": {
      "text/plain": [
       "2"
      ]
     },
     "execution_count": 67,
     "metadata": {},
     "output_type": "execute_result"
    }
   ],
   "source": [
    "board = np.array([[0,0,0,0,0,0,0],\n",
    "                 [0,0,0,0,0,0,0],\n",
    "                 [0,0,0,7,0,0,0],\n",
    "                 [0,0,5,0,0,0,0],\n",
    "                 [0,3,0,0,0,0,0],\n",
    "                 [1,0,0,0,0,0,0]])\n",
    "print(board)\n",
    "check_win()"
   ]
  },
  {
   "cell_type": "code",
   "execution_count": 68,
   "id": "b32a04c9-8f0a-42b3-9196-111b2e64a928",
   "metadata": {},
   "outputs": [
    {
     "name": "stdout",
     "output_type": "stream",
     "text": [
      "[[ 0  0  0  0  0 19  0]\n",
      " [ 0  0  0  0 18  0  0]\n",
      " [ 0  0  0 13  0  0  0]\n",
      " [ 0  0  7  0  0  0  0]\n",
      " [ 0  5  0  0  0  0  0]\n",
      " [ 0  0  0  0  0  0  0]]\n"
     ]
    },
    {
     "data": {
      "text/plain": [
       "-1"
      ]
     },
     "execution_count": 68,
     "metadata": {},
     "output_type": "execute_result"
    }
   ],
   "source": [
    "board = np.array([[0,0,0,0,0,19,0],\n",
    "                 [0,0,0,0,18,0,0],\n",
    "                 [0,0,0,13,0,0,0],\n",
    "                 [0,0,7,0,0,0,0],\n",
    "                 [0,5,0,0,0,0,0],\n",
    "                 [0,0,0,0,0,0,0]])\n",
    "print(board)\n",
    "check_win()"
   ]
  },
  {
   "cell_type": "code",
   "execution_count": 72,
   "id": "2d0db3c7-f1db-4866-a7e5-b9442f50ea54",
   "metadata": {},
   "outputs": [
    {
     "name": "stdout",
     "output_type": "stream",
     "text": [
      "[[ 0  0  0  0  0 18  0]\n",
      " [ 0  0  0  0 19  4  0]\n",
      " [ 0  0  0 13  0  6  0]\n",
      " [ 0  0  7  0  0  8  0]\n",
      " [ 0  5  0  0  0  0  0]\n",
      " [ 0  0  0  0  0  0  0]]\n"
     ]
    },
    {
     "data": {
      "text/plain": [
       "2"
      ]
     },
     "execution_count": 72,
     "metadata": {},
     "output_type": "execute_result"
    }
   ],
   "source": [
    "quantum_list = [6]\n",
    "board = np.array([[0,0,0,0,0,18,0],\n",
    "                 [0,0,0,0,19,4,0],\n",
    "                 [0,0,0,13,0,6,0],\n",
    "                 [0,0,7,0,0,8,0],\n",
    "                 [0,5,0,0,0,0,0],\n",
    "                 [0,0,0,0,0,0,0]])\n",
    "print(board)\n",
    "check_win()"
   ]
  },
  {
   "cell_type": "code",
   "execution_count": 56,
   "id": "94140939-1a77-4598-876e-a5b6eb66e091",
   "metadata": {},
   "outputs": [
    {
     "name": "stdout",
     "output_type": "stream",
     "text": [
      "[[ 5  0  0  0  0 18  0]\n",
      " [ 0  1  0  0 19  4  0]\n",
      " [ 0  0  3 13  0  6  0]\n",
      " [ 0  0  7  3  0  8  0]\n",
      " [ 0  5  0  0  0  0  0]\n",
      " [ 0  0  0  0  0  0  0]]\n"
     ]
    },
    {
     "data": {
      "text/plain": [
       "2"
      ]
     },
     "execution_count": 56,
     "metadata": {},
     "output_type": "execute_result"
    }
   ],
   "source": [
    "board = np.array([[5,0,0,0,0,18,0],\n",
    "                 [0,1,0,0,19,4,0],\n",
    "                 [0,0,3,13,0,6,0],\n",
    "                 [0,0,7,3,0,8,0],\n",
    "                 [0,5,0,0,0,0,0],\n",
    "                 [0,0,0,0,0,0,0]])\n",
    "print(board)\n",
    "check_win()"
   ]
  },
  {
   "cell_type": "code",
   "execution_count": 58,
   "id": "14a3ec59-6014-4f29-97f0-a371dc10f271",
   "metadata": {},
   "outputs": [
    {
     "name": "stdout",
     "output_type": "stream",
     "text": [
      "[[0 0 0 0 0 0 0]\n",
      " [2 1 2 1 2 1 2]\n",
      " [2 1 2 1 2 1 2]\n",
      " [1 2 1 2 1 2 1]\n",
      " [1 2 1 2 1 2 1]\n",
      " [2 1 2 1 2 1 2]]\n"
     ]
    },
    {
     "data": {
      "text/plain": [
       "-1"
      ]
     },
     "execution_count": 58,
     "metadata": {},
     "output_type": "execute_result"
    }
   ],
   "source": [
    "board = np.array([[0,0,0,0,0,0,0],\n",
    "                 [2,1,2,1,2,1,2],\n",
    "                 [2,1,2,1,2,1,2],\n",
    "                 [1,2,1,2,1,2,1],\n",
    "                 [1,2,1,2,1,2,1],\n",
    "                 [2,1,2,1,2,1,2]])\n",
    "print(board)\n",
    "check_win()"
   ]
  },
  {
   "cell_type": "code",
   "execution_count": null,
   "id": "69aa9c62-b6f7-47b8-83b6-df45284be254",
   "metadata": {},
   "outputs": [],
   "source": [
    "board = np.array([[1,2,1,2,1,2,1],\n",
    "                 [2,1,2,1,2,1,2],\n",
    "                 [2,1,2,1,2,1,2],\n",
    "                 [1,2,1,2,1,2,1],\n",
    "                 [1,2,1,2,1,2,1],\n",
    "                 [2,1,2,1,2,1,2]])\n",
    "print(board)\n",
    "check_win()"
   ]
  },
  {
   "cell_type": "code",
   "execution_count": 76,
   "id": "33cebab7-26ed-4c3e-b157-45b097075eb8",
   "metadata": {},
   "outputs": [
    {
     "name": "stdout",
     "output_type": "stream",
     "text": [
      "[[ 0  0  0  0  0  0  0]\n",
      " [ 0  0  0  0  0  0  0]\n",
      " [ 0  0  0  0  0  0  0]\n",
      " [ 0  0  0  0  0  0  0]\n",
      " [ 2  2  4  6 20  0  0]\n",
      " [ 0  3  5  7  9  0  0]]\n"
     ]
    },
    {
     "data": {
      "text/plain": [
       "2"
      ]
     },
     "execution_count": 76,
     "metadata": {},
     "output_type": "execute_result"
    }
   ],
   "source": [
    "board = np.array([[0,0,0,0,0,0,0],\n",
    "                 [0,0,0,0,0,0,0],\n",
    "                 [0,0,0,0,0,0,0],\n",
    "                 [0,0,0,0,0,0,0],\n",
    "                 [2,2,4,6,20,0,0],\n",
    "                 [0,3,5,7,9,0,0]])\n",
    "print(board)\n",
    "check_win()"
   ]
  },
  {
   "cell_type": "code",
   "execution_count": null,
   "id": "1dcedc91-baf8-468b-a3f9-00f799460c36",
   "metadata": {},
   "outputs": [],
   "source": []
  },
  {
   "cell_type": "code",
   "execution_count": null,
   "id": "f88ca7e8-927c-4b4a-9111-81d61c5d6794",
   "metadata": {},
   "outputs": [],
   "source": []
  },
  {
   "cell_type": "code",
   "execution_count": null,
   "id": "7224c6f1-a2b6-4b7c-8559-1b897680a31b",
   "metadata": {},
   "outputs": [],
   "source": []
  }
 ],
 "metadata": {
  "kernelspec": {
   "display_name": "Python 3",
   "language": "python",
   "name": "python3"
  },
  "language_info": {
   "codemirror_mode": {
    "name": "ipython",
    "version": 3
   },
   "file_extension": ".py",
   "mimetype": "text/x-python",
   "name": "python",
   "nbconvert_exporter": "python",
   "pygments_lexer": "ipython3",
   "version": "3.8.8"
  }
 },
 "nbformat": 4,
 "nbformat_minor": 5
}
